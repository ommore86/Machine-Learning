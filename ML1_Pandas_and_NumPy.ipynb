{
  "nbformat": 4,
  "nbformat_minor": 0,
  "metadata": {
    "colab": {
      "provenance": [],
      "authorship_tag": "ABX9TyPcgt0KRwQiuNdon3i/iu9d",
      "include_colab_link": true
    },
    "kernelspec": {
      "name": "python3",
      "display_name": "Python 3"
    },
    "language_info": {
      "name": "python"
    }
  },
  "cells": [
    {
      "cell_type": "markdown",
      "metadata": {
        "id": "view-in-github",
        "colab_type": "text"
      },
      "source": [
        "<a href=\"https://colab.research.google.com/github/ommore86/Machine-Learning/blob/main/ML1_Pandas_and_NumPy.ipynb\" target=\"_parent\"><img src=\"https://colab.research.google.com/assets/colab-badge.svg\" alt=\"Open In Colab\"/></a>"
      ]
    },
    {
      "cell_type": "code",
      "source": [
        "import pandas as pd\n",
        "import numpy as np"
      ],
      "metadata": {
        "id": "owvtOtXXiHik"
      },
      "execution_count": null,
      "outputs": []
    },
    {
      "cell_type": "code",
      "source": [
        "from google.colab import files\n",
        "uploaded = files.upload()"
      ],
      "metadata": {
        "colab": {
          "base_uri": "https://localhost:8080/",
          "height": 73
        },
        "id": "PNG3zy4fhfmE",
        "outputId": "04809158-99ec-42d0-cd71-acb708295f6c"
      },
      "execution_count": null,
      "outputs": [
        {
          "output_type": "display_data",
          "data": {
            "text/plain": [
              "<IPython.core.display.HTML object>"
            ],
            "text/html": [
              "\n",
              "     <input type=\"file\" id=\"files-cec9a67c-6d8e-4d21-888e-e22f4751a884\" name=\"files[]\" multiple disabled\n",
              "        style=\"border:none\" />\n",
              "     <output id=\"result-cec9a67c-6d8e-4d21-888e-e22f4751a884\">\n",
              "      Upload widget is only available when the cell has been executed in the\n",
              "      current browser session. Please rerun this cell to enable.\n",
              "      </output>\n",
              "      <script>// Copyright 2017 Google LLC\n",
              "//\n",
              "// Licensed under the Apache License, Version 2.0 (the \"License\");\n",
              "// you may not use this file except in compliance with the License.\n",
              "// You may obtain a copy of the License at\n",
              "//\n",
              "//      http://www.apache.org/licenses/LICENSE-2.0\n",
              "//\n",
              "// Unless required by applicable law or agreed to in writing, software\n",
              "// distributed under the License is distributed on an \"AS IS\" BASIS,\n",
              "// WITHOUT WARRANTIES OR CONDITIONS OF ANY KIND, either express or implied.\n",
              "// See the License for the specific language governing permissions and\n",
              "// limitations under the License.\n",
              "\n",
              "/**\n",
              " * @fileoverview Helpers for google.colab Python module.\n",
              " */\n",
              "(function(scope) {\n",
              "function span(text, styleAttributes = {}) {\n",
              "  const element = document.createElement('span');\n",
              "  element.textContent = text;\n",
              "  for (const key of Object.keys(styleAttributes)) {\n",
              "    element.style[key] = styleAttributes[key];\n",
              "  }\n",
              "  return element;\n",
              "}\n",
              "\n",
              "// Max number of bytes which will be uploaded at a time.\n",
              "const MAX_PAYLOAD_SIZE = 100 * 1024;\n",
              "\n",
              "function _uploadFiles(inputId, outputId) {\n",
              "  const steps = uploadFilesStep(inputId, outputId);\n",
              "  const outputElement = document.getElementById(outputId);\n",
              "  // Cache steps on the outputElement to make it available for the next call\n",
              "  // to uploadFilesContinue from Python.\n",
              "  outputElement.steps = steps;\n",
              "\n",
              "  return _uploadFilesContinue(outputId);\n",
              "}\n",
              "\n",
              "// This is roughly an async generator (not supported in the browser yet),\n",
              "// where there are multiple asynchronous steps and the Python side is going\n",
              "// to poll for completion of each step.\n",
              "// This uses a Promise to block the python side on completion of each step,\n",
              "// then passes the result of the previous step as the input to the next step.\n",
              "function _uploadFilesContinue(outputId) {\n",
              "  const outputElement = document.getElementById(outputId);\n",
              "  const steps = outputElement.steps;\n",
              "\n",
              "  const next = steps.next(outputElement.lastPromiseValue);\n",
              "  return Promise.resolve(next.value.promise).then((value) => {\n",
              "    // Cache the last promise value to make it available to the next\n",
              "    // step of the generator.\n",
              "    outputElement.lastPromiseValue = value;\n",
              "    return next.value.response;\n",
              "  });\n",
              "}\n",
              "\n",
              "/**\n",
              " * Generator function which is called between each async step of the upload\n",
              " * process.\n",
              " * @param {string} inputId Element ID of the input file picker element.\n",
              " * @param {string} outputId Element ID of the output display.\n",
              " * @return {!Iterable<!Object>} Iterable of next steps.\n",
              " */\n",
              "function* uploadFilesStep(inputId, outputId) {\n",
              "  const inputElement = document.getElementById(inputId);\n",
              "  inputElement.disabled = false;\n",
              "\n",
              "  const outputElement = document.getElementById(outputId);\n",
              "  outputElement.innerHTML = '';\n",
              "\n",
              "  const pickedPromise = new Promise((resolve) => {\n",
              "    inputElement.addEventListener('change', (e) => {\n",
              "      resolve(e.target.files);\n",
              "    });\n",
              "  });\n",
              "\n",
              "  const cancel = document.createElement('button');\n",
              "  inputElement.parentElement.appendChild(cancel);\n",
              "  cancel.textContent = 'Cancel upload';\n",
              "  const cancelPromise = new Promise((resolve) => {\n",
              "    cancel.onclick = () => {\n",
              "      resolve(null);\n",
              "    };\n",
              "  });\n",
              "\n",
              "  // Wait for the user to pick the files.\n",
              "  const files = yield {\n",
              "    promise: Promise.race([pickedPromise, cancelPromise]),\n",
              "    response: {\n",
              "      action: 'starting',\n",
              "    }\n",
              "  };\n",
              "\n",
              "  cancel.remove();\n",
              "\n",
              "  // Disable the input element since further picks are not allowed.\n",
              "  inputElement.disabled = true;\n",
              "\n",
              "  if (!files) {\n",
              "    return {\n",
              "      response: {\n",
              "        action: 'complete',\n",
              "      }\n",
              "    };\n",
              "  }\n",
              "\n",
              "  for (const file of files) {\n",
              "    const li = document.createElement('li');\n",
              "    li.append(span(file.name, {fontWeight: 'bold'}));\n",
              "    li.append(span(\n",
              "        `(${file.type || 'n/a'}) - ${file.size} bytes, ` +\n",
              "        `last modified: ${\n",
              "            file.lastModifiedDate ? file.lastModifiedDate.toLocaleDateString() :\n",
              "                                    'n/a'} - `));\n",
              "    const percent = span('0% done');\n",
              "    li.appendChild(percent);\n",
              "\n",
              "    outputElement.appendChild(li);\n",
              "\n",
              "    const fileDataPromise = new Promise((resolve) => {\n",
              "      const reader = new FileReader();\n",
              "      reader.onload = (e) => {\n",
              "        resolve(e.target.result);\n",
              "      };\n",
              "      reader.readAsArrayBuffer(file);\n",
              "    });\n",
              "    // Wait for the data to be ready.\n",
              "    let fileData = yield {\n",
              "      promise: fileDataPromise,\n",
              "      response: {\n",
              "        action: 'continue',\n",
              "      }\n",
              "    };\n",
              "\n",
              "    // Use a chunked sending to avoid message size limits. See b/62115660.\n",
              "    let position = 0;\n",
              "    do {\n",
              "      const length = Math.min(fileData.byteLength - position, MAX_PAYLOAD_SIZE);\n",
              "      const chunk = new Uint8Array(fileData, position, length);\n",
              "      position += length;\n",
              "\n",
              "      const base64 = btoa(String.fromCharCode.apply(null, chunk));\n",
              "      yield {\n",
              "        response: {\n",
              "          action: 'append',\n",
              "          file: file.name,\n",
              "          data: base64,\n",
              "        },\n",
              "      };\n",
              "\n",
              "      let percentDone = fileData.byteLength === 0 ?\n",
              "          100 :\n",
              "          Math.round((position / fileData.byteLength) * 100);\n",
              "      percent.textContent = `${percentDone}% done`;\n",
              "\n",
              "    } while (position < fileData.byteLength);\n",
              "  }\n",
              "\n",
              "  // All done.\n",
              "  yield {\n",
              "    response: {\n",
              "      action: 'complete',\n",
              "    }\n",
              "  };\n",
              "}\n",
              "\n",
              "scope.google = scope.google || {};\n",
              "scope.google.colab = scope.google.colab || {};\n",
              "scope.google.colab._files = {\n",
              "  _uploadFiles,\n",
              "  _uploadFilesContinue,\n",
              "};\n",
              "})(self);\n",
              "</script> "
            ]
          },
          "metadata": {}
        },
        {
          "output_type": "stream",
          "name": "stdout",
          "text": [
            "Saving Employers_data.csv to Employers_data.csv\n"
          ]
        }
      ]
    },
    {
      "cell_type": "code",
      "execution_count": null,
      "metadata": {
        "id": "83qChaApeLb4"
      },
      "outputs": [],
      "source": [
        "df = pd.read_csv('Employers_data.csv')"
      ]
    },
    {
      "cell_type": "markdown",
      "source": [
        "# PANDAS"
      ],
      "metadata": {
        "id": "xubec-EplFuc"
      }
    },
    {
      "cell_type": "code",
      "source": [
        "print(df.head())  # Print first 5 rows\n",
        "print(\"---------------------------------------------------------------------\")\n",
        "print(df.info())  # Print summary"
      ],
      "metadata": {
        "colab": {
          "base_uri": "https://localhost:8080/"
        },
        "id": "745tmv-EiEUc",
        "outputId": "fdf9f844-2c55-409d-f107-c82ed8c68df6"
      },
      "execution_count": null,
      "outputs": [
        {
          "output_type": "stream",
          "name": "stdout",
          "text": [
            "   Employee_ID            Name  Age  Gender   Department  Job_Title  \\\n",
            "0            1    Merle Ingram   24  Female  Engineering   Engineer   \n",
            "1            2      John Mayes   56    Male        Sales  Executive   \n",
            "2            3    Carlos Wille   21    Male  Engineering     Intern   \n",
            "3            4  Michael Bryant   30    Male      Finance    Analyst   \n",
            "4            5   Paula Douglas   25  Female           HR    Analyst   \n",
            "\n",
            "   Experience_Years Education_Level  Location  Salary  \n",
            "0                 1          Master    Austin   90000  \n",
            "1                33          Master   Seattle  195000  \n",
            "2                 1        Bachelor  New York   35000  \n",
            "3                 9        Bachelor  New York   75000  \n",
            "4                 2          Master   Seattle   70000  \n",
            "---------------------------------------------------------------------\n",
            "<class 'pandas.core.frame.DataFrame'>\n",
            "RangeIndex: 10000 entries, 0 to 9999\n",
            "Data columns (total 10 columns):\n",
            " #   Column            Non-Null Count  Dtype \n",
            "---  ------            --------------  ----- \n",
            " 0   Employee_ID       10000 non-null  int64 \n",
            " 1   Name              10000 non-null  object\n",
            " 2   Age               10000 non-null  int64 \n",
            " 3   Gender            10000 non-null  object\n",
            " 4   Department        10000 non-null  object\n",
            " 5   Job_Title         10000 non-null  object\n",
            " 6   Experience_Years  10000 non-null  int64 \n",
            " 7   Education_Level   10000 non-null  object\n",
            " 8   Location          10000 non-null  object\n",
            " 9   Salary            10000 non-null  int64 \n",
            "dtypes: int64(4), object(6)\n",
            "memory usage: 781.4+ KB\n",
            "None\n"
          ]
        }
      ]
    },
    {
      "cell_type": "code",
      "source": [
        "print(df.isnull().sum())  # Check null values in each column of the dataframe"
      ],
      "metadata": {
        "colab": {
          "base_uri": "https://localhost:8080/"
        },
        "id": "0kJRwtjY6HQx",
        "outputId": "5e7d8a44-c402-475a-c8ba-0d5706a3f2e4"
      },
      "execution_count": null,
      "outputs": [
        {
          "output_type": "stream",
          "name": "stdout",
          "text": [
            "Employee_ID         0\n",
            "Name                0\n",
            "Age                 0\n",
            "Gender              0\n",
            "Department          0\n",
            "Job_Title           0\n",
            "Experience_Years    0\n",
            "Education_Level     0\n",
            "Location            0\n",
            "Salary              0\n",
            "dtype: int64\n"
          ]
        }
      ]
    },
    {
      "cell_type": "code",
      "source": [
        "filtered_df = df[df['Salary'] > 100000] # Filtering the rows\n",
        "print(filtered_df.head())"
      ],
      "metadata": {
        "colab": {
          "base_uri": "https://localhost:8080/"
        },
        "id": "fZzUm-_A7NRV",
        "outputId": "57a157d2-6228-4ce8-df82-a3a99d985218"
      },
      "execution_count": null,
      "outputs": [
        {
          "output_type": "stream",
          "name": "stdout",
          "text": [
            "    Employee_ID             Name  Age  Gender Department  Job_Title  \\\n",
            "1             2       John Mayes   56    Male      Sales  Executive   \n",
            "5             6   Michael Irving   35    Male    Finance    Manager   \n",
            "7             8      Glenda Leal   47  Female  Marketing    Manager   \n",
            "8             9  Walter Williams   43    Male  Marketing    Manager   \n",
            "12           13     Lionel Elsea   48    Male    Product    Manager   \n",
            "\n",
            "    Experience_Years Education_Level       Location  Salary  \n",
            "1                 33          Master        Seattle  195000  \n",
            "5                  8             PhD       New York  125000  \n",
            "7                 24          Master  San Francisco  145000  \n",
            "8                 16             PhD  San Francisco  135000  \n",
            "12                21             PhD        Seattle  150000  \n"
          ]
        }
      ]
    },
    {
      "cell_type": "code",
      "source": [
        "# Filtering (Grouping)\n",
        "grouped = df.groupby('Job_Title')\n",
        "print(grouped.get_group('Engineer').head())\n",
        "print('---------------------------------------------------------------------')\n",
        "grouped = df.groupby('Job_Title')['Salary'].mean()\n",
        "print(grouped)"
      ],
      "metadata": {
        "colab": {
          "base_uri": "https://localhost:8080/"
        },
        "id": "LwzeQsUN8nyy",
        "outputId": "6a796c26-a649-4859-a78d-8014a75517dd"
      },
      "execution_count": null,
      "outputs": [
        {
          "output_type": "stream",
          "name": "stdout",
          "text": [
            "    Employee_ID             Name  Age  Gender   Department Job_Title  \\\n",
            "0             1     Merle Ingram   24  Female  Engineering  Engineer   \n",
            "10           11  Caitlin Mayhugh   24  Female      Product  Engineer   \n",
            "11           12      Peter Paris   23    Male      Product  Engineer   \n",
            "22           23         Jim Blue   31    Male      Product  Engineer   \n",
            "24           25    Gregory Watts   28    Male  Engineering  Engineer   \n",
            "\n",
            "    Experience_Years Education_Level  Location  Salary  \n",
            "0                  1          Master    Austin   90000  \n",
            "10                 1          Master  New York   90000  \n",
            "11                 0          Master   Chicago   80000  \n",
            "22                 8          Master   Chicago   95000  \n",
            "24                 1             PhD   Chicago   90000  \n",
            "---------------------------------------------------------------------\n",
            "Job_Title\n",
            "Analyst       69478.385138\n",
            "Engineer      99272.727273\n",
            "Executive    183414.888079\n",
            "Intern        35801.724138\n",
            "Manager      135260.150376\n",
            "Name: Salary, dtype: float64\n"
          ]
        }
      ]
    },
    {
      "cell_type": "code",
      "source": [
        "# Adding new column\n",
        "df['Tax'] = df['Salary'] * 0.1\n",
        "print(df.head())\n",
        "print('---------------------------------------------------------------------')\n",
        "print(df[['Salary', 'Tax']].head())"
      ],
      "metadata": {
        "colab": {
          "base_uri": "https://localhost:8080/"
        },
        "id": "TPGoIOLi_P0X",
        "outputId": "2391aa0d-1e10-472d-a10e-ea399eaaf9de"
      },
      "execution_count": null,
      "outputs": [
        {
          "output_type": "stream",
          "name": "stdout",
          "text": [
            "   Employee_ID            Name  Age  Gender   Department  Job_Title  \\\n",
            "0            1    Merle Ingram   24  Female  Engineering   Engineer   \n",
            "1            2      John Mayes   56    Male        Sales  Executive   \n",
            "2            3    Carlos Wille   21    Male  Engineering     Intern   \n",
            "3            4  Michael Bryant   30    Male      Finance    Analyst   \n",
            "4            5   Paula Douglas   25  Female           HR    Analyst   \n",
            "\n",
            "   Experience_Years Education_Level  Location  Salary      Tax  \n",
            "0                 1          Master    Austin   90000   9000.0  \n",
            "1                33          Master   Seattle  195000  19500.0  \n",
            "2                 1        Bachelor  New York   35000   3500.0  \n",
            "3                 9        Bachelor  New York   75000   7500.0  \n",
            "4                 2          Master   Seattle   70000   7000.0  \n",
            "---------------------------------------------------------------------\n",
            "   Salary      Tax\n",
            "0   90000   9000.0\n",
            "1  195000  19500.0\n",
            "2   35000   3500.0\n",
            "3   75000   7500.0\n",
            "4   70000   7000.0\n"
          ]
        }
      ]
    },
    {
      "cell_type": "code",
      "source": [
        "# Renaming Columns\n",
        "df.rename(columns={'Tax':'Charity'}, inplace=True)\n",
        "print(df.columns)\n",
        "print('----------------------------------------------------------------------')\n",
        "print(df.head())"
      ],
      "metadata": {
        "colab": {
          "base_uri": "https://localhost:8080/"
        },
        "id": "Y_W1XKfr_-NV",
        "outputId": "f9fc5908-7a64-4642-8f2a-0947458bd81f"
      },
      "execution_count": null,
      "outputs": [
        {
          "output_type": "stream",
          "name": "stdout",
          "text": [
            "Index(['Employee_ID', 'Name', 'Age', 'Gender', 'Department', 'Job_Title',\n",
            "       'Experience_Years', 'Education_Level', 'Location', 'Salary', 'Charity'],\n",
            "      dtype='object')\n",
            "----------------------------------------------------------------------\n",
            "   Employee_ID            Name  Age  Gender   Department  Job_Title  \\\n",
            "0            1    Merle Ingram   24  Female  Engineering   Engineer   \n",
            "1            2      John Mayes   56    Male        Sales  Executive   \n",
            "2            3    Carlos Wille   21    Male  Engineering     Intern   \n",
            "3            4  Michael Bryant   30    Male      Finance    Analyst   \n",
            "4            5   Paula Douglas   25  Female           HR    Analyst   \n",
            "\n",
            "   Experience_Years Education_Level  Location  Salary  Charity  \n",
            "0                 1          Master    Austin   90000   9000.0  \n",
            "1                33          Master   Seattle  195000  19500.0  \n",
            "2                 1        Bachelor  New York   35000   3500.0  \n",
            "3                 9        Bachelor  New York   75000   7500.0  \n",
            "4                 2          Master   Seattle   70000   7000.0  \n"
          ]
        }
      ]
    },
    {
      "cell_type": "code",
      "source": [
        "# Sorting\n",
        "sorted_df = df.sort_values(by='Salary', ascending=False)\n",
        "print(sorted_df.head())\n",
        "print('--------------------------------------------------------------------')\n",
        "sorted_df = df.sort_values(by='Salary', ascending=True)\n",
        "print(sorted_df.head())"
      ],
      "metadata": {
        "colab": {
          "base_uri": "https://localhost:8080/"
        },
        "id": "O9R35fnCAjNE",
        "outputId": "9b51144e-febe-4010-8488-f51f8ea6c343"
      },
      "execution_count": null,
      "outputs": [
        {
          "output_type": "stream",
          "name": "stdout",
          "text": [
            "      Employee_ID               Name  Age  Gender Department  Job_Title  \\\n",
            "2132         2133        Mark Newman   59    Male    Finance  Executive   \n",
            "9423         9424  Alexander Compton   59    Male         HR  Executive   \n",
            "3949         3950      Willis Holmes   59    Male         HR  Executive   \n",
            "8432         8433     Michael Crosby   60    Male    Finance  Executive   \n",
            "6234         6235  Annabelle Hoffman   60  Female      Sales  Executive   \n",
            "\n",
            "      Experience_Years Education_Level  Location  Salary  Charity  \n",
            "2132                36          Master  New York  215000  21500.0  \n",
            "9423                36          Master  New York  215000  21500.0  \n",
            "3949                36          Master   Chicago  215000  21500.0  \n",
            "8432                33             PhD  New York  210000  21000.0  \n",
            "6234                37          Master   Seattle  210000  21000.0  \n",
            "--------------------------------------------------------------------\n",
            "      Employee_ID               Name  Age  Gender   Department Job_Title  \\\n",
            "8536         8537          Sarah Fox   24  Female  Engineering    Intern   \n",
            "6237         6238  Michael Henderson   25    Male  Engineering    Intern   \n",
            "9630         9631       Olga Goodier   22  Female  Engineering    Intern   \n",
            "2420         2421     Melvin Destina   24    Male  Engineering    Intern   \n",
            "8496         8497          James Ray   22    Male  Engineering    Intern   \n",
            "\n",
            "      Experience_Years Education_Level       Location  Salary  Charity  \n",
            "8536                 0        Bachelor        Seattle   25000   2500.0  \n",
            "6237                 0        Bachelor       New York   25000   2500.0  \n",
            "9630                 1        Bachelor        Seattle   25000   2500.0  \n",
            "2420                 1        Bachelor  San Francisco   25000   2500.0  \n",
            "8496                 0        Bachelor        Seattle   25000   2500.0  \n"
          ]
        }
      ]
    },
    {
      "cell_type": "code",
      "source": [
        "# Drop a column\n",
        "df = df.drop('Charity', axis=1)\n",
        "print(df.columns)"
      ],
      "metadata": {
        "colab": {
          "base_uri": "https://localhost:8080/"
        },
        "id": "jR1cvM7-BJir",
        "outputId": "bb62fc10-2736-4494-db86-bbcef47cb94c"
      },
      "execution_count": null,
      "outputs": [
        {
          "output_type": "stream",
          "name": "stdout",
          "text": [
            "Index(['Employee_ID', 'Name', 'Age', 'Gender', 'Department', 'Job_Title',\n",
            "       'Experience_Years', 'Education_Level', 'Location', 'Salary'],\n",
            "      dtype='object')\n"
          ]
        }
      ]
    },
    {
      "cell_type": "code",
      "source": [
        "# Histogram (of Age)\n",
        "df['Age'].plot.hist(bins=10)"
      ],
      "metadata": {
        "colab": {
          "base_uri": "https://localhost:8080/",
          "height": 447
        },
        "id": "5t2ZBYe28r0o",
        "outputId": "19964f72-6c2a-4d47-d858-562a785e2d45"
      },
      "execution_count": null,
      "outputs": [
        {
          "output_type": "execute_result",
          "data": {
            "text/plain": [
              "<Axes: ylabel='Frequency'>"
            ]
          },
          "metadata": {},
          "execution_count": 96
        },
        {
          "output_type": "display_data",
          "data": {
            "text/plain": [
              "<Figure size 640x480 with 1 Axes>"
            ],
            "image/png": "[encoded data removed]"
          },
          "metadata": {}
        }
      ]
    },
    {
      "cell_type": "code",
      "source": [
        "# Bar Chart (of Employees per Department)\n",
        "df['Department'].value_counts().plot(kind='bar')"
      ],
      "metadata": {
        "colab": {
          "base_uri": "https://localhost:8080/",
          "height": 536
        },
        "id": "fSVeuBtF7r7D",
        "outputId": "d260820e-6fbe-4b4e-dd58-4ae6a3346048"
      },
      "execution_count": null,
      "outputs": [
        {
          "output_type": "execute_result",
          "data": {
            "text/plain": [
              "<Axes: xlabel='Department', ylabel='Frequency'>"
            ]
          },
          "metadata": {},
          "execution_count": 95
        },
        {
          "output_type": "display_data",
          "data": {
            "text/plain": [
              "<Figure size 640x480 with 1 Axes>"
            ],
            "image/png": "[encoded data removed]"
          },
          "metadata": {}
        }
      ]
    },
    {
      "cell_type": "code",
      "source": [
        "# Count Plot (Bar Plot)\n",
        "df['Gender'].value_counts().plot(kind='bar')"
      ],
      "metadata": {
        "colab": {
          "base_uri": "https://localhost:8080/",
          "height": 503
        },
        "id": "B1rdjOnt88j8",
        "outputId": "6cf3fd79-9dcb-4253-9d26-bb84a751447d"
      },
      "execution_count": null,
      "outputs": [
        {
          "output_type": "execute_result",
          "data": {
            "text/plain": [
              "<Axes: xlabel='Gender'>"
            ]
          },
          "metadata": {},
          "execution_count": 98
        },
        {
          "output_type": "display_data",
          "data": {
            "text/plain": [
              "<Figure size 640x480 with 1 Axes>"
            ],
            "image/png": "[encoded data removed]"
          },
          "metadata": {}
        }
      ]
    },
    {
      "cell_type": "code",
      "source": [
        "# Scatter Plot (Experience vs Salary)\n",
        "df.plot.scatter(x='Experience_Years', y='Salary')"
      ],
      "metadata": {
        "colab": {
          "base_uri": "https://localhost:8080/",
          "height": 467
        },
        "id": "9p82vJ419Q2u",
        "outputId": "02cca76c-a7af-4aeb-adf0-db79a088d6eb"
      },
      "execution_count": null,
      "outputs": [
        {
          "output_type": "execute_result",
          "data": {
            "text/plain": [
              "<Axes: xlabel='Experience_Years', ylabel='Salary'>"
            ]
          },
          "metadata": {},
          "execution_count": 99
        },
        {
          "output_type": "display_data",
          "data": {
            "text/plain": [
              "<Figure size 640x480 with 1 Axes>"
            ],
            "image/png": "[encoded data removed]"
          },
          "metadata": {}
        }
      ]
    },
    {
      "cell_type": "code",
      "source": [
        "# Grouped Bar Chart (Average Salary by Department and Gender)\n",
        "df.groupby(['Department', 'Gender'])['Salary'].mean().unstack().plot(kind='bar')"
      ],
      "metadata": {
        "colab": {
          "base_uri": "https://localhost:8080/",
          "height": 536
        },
        "id": "5L1cMHRP9Ysk",
        "outputId": "2cb57343-d497-4df6-ee1d-23ccc0f4f332"
      },
      "execution_count": null,
      "outputs": [
        {
          "output_type": "execute_result",
          "data": {
            "text/plain": [
              "<Axes: xlabel='Department'>"
            ]
          },
          "metadata": {},
          "execution_count": 100
        },
        {
          "output_type": "display_data",
          "data": {
            "text/plain": [
              "<Figure size 640x480 with 1 Axes>"
            ],
            "image/png": "[encoded data removed]"
          },
          "metadata": {}
        }
      ]
    },
    {
      "cell_type": "code",
      "source": [
        "# Pie Chart (Employee Distribution by Location)\n",
        "df['Location'].value_counts().plot(kind='pie', autopct='%1.1f%%')"
      ],
      "metadata": {
        "colab": {
          "base_uri": "https://localhost:8080/",
          "height": 423
        },
        "id": "byTBk9av9jjE",
        "outputId": "f8137da3-82d4-407a-ad11-24e6ac28b95d"
      },
      "execution_count": null,
      "outputs": [
        {
          "output_type": "execute_result",
          "data": {
            "text/plain": [
              "<Axes: ylabel='count'>"
            ]
          },
          "metadata": {},
          "execution_count": 119
        },
        {
          "output_type": "display_data",
          "data": {
            "text/plain": [
              "<Figure size 640x480 with 1 Axes>"
            ],
            "image/png": "[encoded data removed]"
          },
          "metadata": {}
        }
      ]
    },
    {
      "cell_type": "markdown",
      "source": [
        "# NUMPY"
      ],
      "metadata": {
        "id": "bTNkKcyZlXkr"
      }
    },
    {
      "cell_type": "code",
      "source": [
        "# DataFrame column to NumPy array\n",
        "arr = np.array(df['Salary'])\n",
        "print(arr)\n",
        "print(arr[:5])"
      ],
      "metadata": {
        "colab": {
          "base_uri": "https://localhost:8080/"
        },
        "id": "4cLb2ttrlZmL",
        "outputId": "6daff8eb-fff5-4f3c-babe-56fc10574c7a"
      },
      "execution_count": null,
      "outputs": [
        {
          "output_type": "stream",
          "name": "stdout",
          "text": [
            "[ 90000 195000  35000 ... 200000 135000  70000]\n",
            "[ 90000 195000  35000  75000  70000]\n"
          ]
        }
      ]
    },
    {
      "cell_type": "code",
      "source": [
        "# Mean Median, Mode\n",
        "print(\"Mean Salary: \", np.mean(arr))\n",
        "print(\"Median Salary: \", np.median(arr))\n",
        "print(\"Std Deviation of Salary: \", np.std(arr))"
      ],
      "metadata": {
        "colab": {
          "base_uri": "https://localhost:8080/"
        },
        "id": "OWaIxs4XmJBc",
        "outputId": "b8ba4255-447d-4509-96fd-29574a293f10"
      },
      "execution_count": null,
      "outputs": [
        {
          "output_type": "stream",
          "name": "stdout",
          "text": [
            "Mean Salary:  115381.5\n",
            "Median Salary:  120000.0\n",
            "Std Deviation of Salary:  46063.835682127035\n"
          ]
        }
      ]
    },
    {
      "cell_type": "code",
      "source": [
        "# Filter\n",
        "male = df['Gender'].values == 'Male'\n",
        "print(male)"
      ],
      "metadata": {
        "colab": {
          "base_uri": "https://localhost:8080/"
        },
        "id": "icIb1IKkhBtE",
        "outputId": "de6bb325-3b21-47d6-8790-093a27c6016f"
      },
      "execution_count": null,
      "outputs": [
        {
          "output_type": "stream",
          "name": "stdout",
          "text": [
            "[False  True  True ...  True False False]\n"
          ]
        }
      ]
    },
    {
      "cell_type": "code",
      "source": [
        "# Element wise operation\n",
        "bonus_salary = df['Salary'].values + 5000\n",
        "print(bonus_salary)"
      ],
      "metadata": {
        "colab": {
          "base_uri": "https://localhost:8080/"
        },
        "id": "rSYcyysMiIc6",
        "outputId": "e56876db-bbf2-4289-c6c1-7cb3ced570c2"
      },
      "execution_count": null,
      "outputs": [
        {
          "output_type": "stream",
          "name": "stdout",
          "text": [
            "[ 95000 200000  40000 ... 205000 140000  75000]\n"
          ]
        }
      ]
    },
    {
      "cell_type": "code",
      "source": [
        "# Reshaping Array\n",
        "salary_reshaped = arr.reshape(-1, 5)\n",
        "print(salary_reshaped[:10])"
      ],
      "metadata": {
        "colab": {
          "base_uri": "https://localhost:8080/"
        },
        "id": "8LKKqtydifBC",
        "outputId": "32bef5ff-3375-4b88-865d-ba7175d5e4d6"
      },
      "execution_count": null,
      "outputs": [
        {
          "output_type": "stream",
          "name": "stdout",
          "text": [
            "[[ 90000 195000  35000  75000  70000]\n",
            " [125000  60000 145000 135000  70000]\n",
            " [ 90000  80000 150000 175000 205000]\n",
            " [150000 195000 175000 190000 150000]\n",
            " [170000  70000  95000 150000  90000]\n",
            " [ 75000 190000 190000  65000 130000]\n",
            " [140000  65000 180000  75000 135000]\n",
            " [ 85000 125000 120000  70000  70000]\n",
            " [145000 125000 130000 145000 115000]\n",
            " [ 90000 185000 140000 195000 135000]]\n"
          ]
        }
      ]
    },
    {
      "cell_type": "code",
      "source": [
        "# Unique values\n",
        "education = np.unique(df['Education_Level'])\n",
        "print(education)\n",
        "print('--------------------------------------------------------------------')\n",
        "location = np.unique(df['Location'])\n",
        "print(location)"
      ],
      "metadata": {
        "colab": {
          "base_uri": "https://localhost:8080/"
        },
        "id": "kYX4MMEEjXMS",
        "outputId": "5beaf9a4-554a-4d1b-e825-e8d70af6f7a7"
      },
      "execution_count": null,
      "outputs": [
        {
          "output_type": "stream",
          "name": "stdout",
          "text": [
            "['Bachelor' 'Master' 'PhD']\n",
            "--------------------------------------------------------------------\n",
            "['Austin' 'Chicago' 'New York' 'San Francisco' 'Seattle']\n"
          ]
        }
      ]
    },
    {
      "cell_type": "code",
      "source": [
        "# Concatenate two columns\n",
        "combined = np.column_stack((df['Education_Level'], df['Salary']))\n",
        "print(combined[:10])"
      ],
      "metadata": {
        "colab": {
          "base_uri": "https://localhost:8080/"
        },
        "id": "SAfSkrViqXgn",
        "outputId": "783cf32b-e250-428c-a9f1-427ab1344cdc"
      },
      "execution_count": null,
      "outputs": [
        {
          "output_type": "stream",
          "name": "stdout",
          "text": [
            "[['Master' 90000]\n",
            " ['Master' 195000]\n",
            " ['Bachelor' 35000]\n",
            " ['Bachelor' 75000]\n",
            " ['Master' 70000]\n",
            " ['PhD' 125000]\n",
            " ['Bachelor' 60000]\n",
            " ['Master' 145000]\n",
            " ['PhD' 135000]\n",
            " ['Master' 70000]]\n"
          ]
        }
      ]
    },
    {
      "cell_type": "code",
      "source": [
        "# sorting an array\n",
        "sorted_age = np.sort(df['Age'])\n",
        "print(sorted_age)"
      ],
      "metadata": {
        "colab": {
          "base_uri": "https://localhost:8080/"
        },
        "id": "vAk6mYUVrW81",
        "outputId": "9225e54e-972b-4796-f830-16e437c5dcca"
      },
      "execution_count": null,
      "outputs": [
        {
          "output_type": "stream",
          "name": "stdout",
          "text": [
            "[[21 21 21 21 21]\n",
            " [21 21 21 21 21]\n",
            " [21 21 21 21 21]\n",
            " ...\n",
            " [60 60 60 60 60]\n",
            " [60 60 60 60 60]\n",
            " [60 60 60 60 60]]\n"
          ]
        }
      ]
    },
    {
      "cell_type": "code",
      "source": [
        "# Sorting and grouping combined\n",
        "sorted = df.sort_values(by='Age').groupby(df['Gender'])\n",
        "print(sorted.get_group('Female').head(10))"
      ],
      "metadata": {
        "colab": {
          "base_uri": "https://localhost:8080/"
        },
        "id": "I01EScpysbEU",
        "outputId": "83fefa22-cacf-4c05-c061-91ba943fd27e"
      },
      "execution_count": null,
      "outputs": [
        {
          "output_type": "stream",
          "name": "stdout",
          "text": [
            "      Employee_ID                 Name  Age  Gender   Department Job_Title  \\\n",
            "8246         8247          Debra Akins   21  Female  Engineering    Intern   \n",
            "8157         8158    Patricia Decastro   21  Female  Engineering    Intern   \n",
            "3755         3756          Ruth Taylor   21  Female  Engineering    Intern   \n",
            "9102         9103       Patsy Williams   21  Female  Engineering    Intern   \n",
            "6756         6757    Darlene Dominguez   21  Female  Engineering    Intern   \n",
            "9109         9110  Caroline Gransberry   21  Female  Engineering    Intern   \n",
            "1075         1076      Gretchen Benson   21  Female  Engineering    Intern   \n",
            "3650         3651          Mary Nieves   21  Female  Engineering    Intern   \n",
            "926           927      Kathleen George   21  Female  Engineering    Intern   \n",
            "1056         1057          Helen Jones   21  Female  Engineering    Intern   \n",
            "\n",
            "      Experience_Years Education_Level  Location  Salary  \n",
            "8246                 1        Bachelor  New York   30000  \n",
            "8157                 1        Bachelor   Seattle   35000  \n",
            "3755                 0        Bachelor  New York   35000  \n",
            "9102                 0        Bachelor    Austin   40000  \n",
            "6756                 0        Bachelor    Austin   40000  \n",
            "9109                 1        Bachelor    Austin   35000  \n",
            "1075                 0        Bachelor   Seattle   35000  \n",
            "3650                 0        Bachelor  New York   35000  \n",
            "926                  0        Bachelor   Chicago   35000  \n",
            "1056                 0        Bachelor    Austin   30000  \n"
          ]
        }
      ]
    },
    {
      "cell_type": "code",
      "source": [
        "# Print columns\n",
        "print(df.columns)"
      ],
      "metadata": {
        "colab": {
          "base_uri": "https://localhost:8080/"
        },
        "id": "BFqW0kJRnmwD",
        "outputId": "50094f6d-e5f3-44c4-e085-92d226739210"
      },
      "execution_count": null,
      "outputs": [
        {
          "output_type": "stream",
          "name": "stdout",
          "text": [
            "Index(['Employee_ID', 'Name', 'Age', 'Gender', 'Department', 'Job_Title',\n",
            "       'Experience_Years', 'Education_Level', 'Location', 'Salary'],\n",
            "      dtype='object')\n"
          ]
        }
      ]
    }
  ]
}